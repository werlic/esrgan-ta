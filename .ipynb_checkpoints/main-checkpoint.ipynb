{
 "cells": [
  {
   "cell_type": "code",
   "execution_count": null,
   "metadata": {},
   "outputs": [],
   "source": [
    "# import pytorch"
   ]
  },
  {
   "cell_type": "code",
   "execution_count": 1,
   "metadata": {},
   "outputs": [
    {
     "name": "stderr",
     "output_type": "stream",
     "text": [
      "UsageError: Line magic function `%git` not found.\n"
     ]
    }
   ],
   "source": [
    "# Clone Real-ESRGAN and enter the Real-ESRGAN\n",
    "# %git clone https: // github.com/xinntao/Real-ESRGAN.git\n",
    "# %cd Real-ESRGAN\n",
    "# # Set up the environment\n",
    "# %pip install basicsr\n",
    "# %pip install facexlib\n",
    "# %pip install gfpgan\n",
    "# %pip install -r requirements.txt\n",
    "# %python setup.py develop"
   ]
  },
  {
   "cell_type": "code",
   "execution_count": null,
   "metadata": {},
   "outputs": [],
   "source": [
    "# import os\n",
    "# from google.colab import files\n",
    "# import shutil\n",
    "\n",
    "# upload_folder = 'upload'\n",
    "# result_folder = 'results'\n",
    "\n",
    "# if os.path.isdir(upload_folder):\n",
    "#     shutil.rmtree(upload_folder)\n",
    "# if os.path.isdir(result_folder):\n",
    "#     shutil.rmtree(result_folder)\n",
    "# os.mkdir(upload_folder)\n",
    "# os.mkdir(result_folder)\n",
    "\n",
    "# # upload images\n",
    "# uploaded = files.upload()\n",
    "# for filename in uploaded.keys():\n",
    "#   dst_path = os.path.join(upload_folder, filename)\n",
    "#   print(f'move {filename} to {dst_path}')\n",
    "#   shutil.move(filename, dst_path)\n",
    "\n",
    "# file = 'test.png'"
   ]
  },
  {
   "cell_type": "code",
   "execution_count": null,
   "metadata": {},
   "outputs": [],
   "source": [
    "# %python inference_realesrgan.py -n RealESRGAN_x4plus -i inputs - -outscale 3.5 --face_enhance -o outputs"
   ]
  },
  {
   "cell_type": "code",
   "execution_count": null,
   "metadata": {},
   "outputs": [],
   "source": [
    "# utils for visualization\n",
    "# import glob\n",
    "# import os\n",
    "# import cv2\n",
    "# import matplotlib.pyplot as plt\n",
    "\n",
    "\n",
    "# def display(img1, img2):\n",
    "#   fig = plt.figure(figsize=(25, 10))\n",
    "#   ax1 = fig.add_subplot(1, 2, 1)\n",
    "#   plt.title('Input image', fontsize=16)\n",
    "#   ax1.axis('off')\n",
    "#   ax2 = fig.add_subplot(1, 2, 2)\n",
    "#   plt.title('Real-ESRGAN output', fontsize=16)\n",
    "#   ax2.axis('off')\n",
    "#   ax1.imshow(img1)\n",
    "#   ax2.imshow(img2)\n",
    "\n",
    "\n",
    "# def imread(img_path):\n",
    "#   img = cv2.imread(img_path)\n",
    "#   img = cv2.cvtColor(img, cv2.COLOR_BGR2RGB)\n",
    "#   return img\n",
    "\n",
    "\n",
    "# # display each image in the upload folder\n",
    "\n",
    "# input_folder = 'inputs'\n",
    "# result_folder = 'outputs'\n",
    "# input_list = sorted(glob.glob(os.path.join(input_folder, '*')))\n",
    "# output_list = sorted(glob.glob(os.path.join(result_folder, '*')))\n",
    "# for input_path, output_path in zip(input_list, output_list):\n",
    "#   img_input = imread(input_path)\n",
    "#   img_output = imread(output_path)\n",
    "#   display(img_input, img_output)\n"
   ]
  },
  {
   "cell_type": "markdown",
   "metadata": {},
   "source": [
    "### Train"
   ]
  },
  {
   "cell_type": "code",
   "execution_count": null,
   "metadata": {},
   "outputs": [],
   "source": [
    "# generate meta info\n",
    "# %python scripts/generate_meta_info.py --input datasets/img-align-celeb --root datasets/img-align-celeb --meta_info datasets/img-align-celeb/meta_info/meta_info_img-align-celeb.txt\n",
    "\n",
    "# finetune realersnet (ESRGAN)\n",
    "python train.py -opt options/finetune_realesrgan_x4plus.yml --auto_resume"
   ]
  }
 ],
 "metadata": {
  "interpreter": {
   "hash": "fc14f50e90d6c86c2a7d7f132509785229f9ed9aca3be66693541fb58d02dd0e"
  },
  "kernelspec": {
   "display_name": "Python 3",
   "language": "python",
   "name": "python3"
  },
  "language_info": {
   "codemirror_mode": {
    "name": "ipython",
    "version": 3
   },
   "file_extension": ".py",
   "mimetype": "text/x-python",
   "name": "python",
   "nbconvert_exporter": "python",
   "pygments_lexer": "ipython3",
   "version": "3.8.8"
  }
 },
 "nbformat": 4,
 "nbformat_minor": 2
}
